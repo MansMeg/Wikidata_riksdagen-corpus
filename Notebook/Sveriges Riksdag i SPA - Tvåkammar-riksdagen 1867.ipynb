{
 "cells": [
  {
   "cell_type": "markdown",
   "id": "e51c9ac9",
   "metadata": {},
   "source": [
    "#### Test get pictures from Tvåkammar-riksdagen 1867\n",
    "\n",
    "* this [Notebook](https://github.com/salgo60/Wikidata_riksdagen-corpus/blob/main/Notebook/Sveriges%20Riksdag%20i%20SPA%20-%20Tvåkammar-riksdagen%201867.ipynb)\n",
    "  * see also \n",
    "      * [Notebook Sveriges Riksdag SPA](https://github.com/salgo60/Wikidata_riksdagen-corpus/blob/main/Notebook/Sveriges%20Riksdag%20i%20SPA.ipynb)\n",
    "      \n",
    "\n",
    "See GITHUB discussion about different nameforms (WIkidata alias) [welfare-state-analytics/riksdagen-corpus/issues/103#issuecomment-999775874](https://github.com/welfare-state-analytics/riksdagen-corpus/issues/103#issuecomment-999775874) \n",
    "\n",
    "The following Swedish PM books has been found at https://portrattarkiv.se/ that could help us get more pictures of Swedish PM --> and also name forms as \n",
    "\n",
    "| PortraitCatalog | Number records | uploaded y/n \n",
    "| :------------ | -------: | -------- |\n",
    "|[Sveriges Riksdag 1924](https://portrattarkiv.se/advancedsearch;facts=PortraitCatalog:Sveriges%20Riksdag%201924) | 382 records | n\n",
    "|[Tvåkammar-riksdagen 1867-](https://portrattarkiv.se/advancedsearch;facts=PortraitCatalog:Tv%C3%A5kammar-riksdagen%201867-)|4351 records | n\n",
    "\n",
    "\n",
    "\n",
    " \n",
    "### API for a record\n",
    "eg. [rkIpfGqHXrAAAAAAAACvFw](https://portrattarkiv.se/details/rkIpfGqHXrAAAAAAAACvFw) --> API get https://portrattarkiv.se/endpoints/portraits.php?id=rkIpfGqHXrAAAAAAAACvFw \n",
    "\n",
    "--> you can see \n",
    ">\"Id\": \"640330\", \n",
    ">\"Category\": \"Sysselsättning\", \n",
    ">\"Type\": \"Authority\", \n",
    ">\"Value\": \"Riksdagens andra kammare\", \n",
    ">\"Modified\": \"2018-03-01 12:01:55\", \n",
    "\n"
   ]
  },
  {
   "cell_type": "code",
   "execution_count": 1,
   "id": "74c3f5ae",
   "metadata": {},
   "outputs": [
    {
     "name": "stdout",
     "output_type": "stream",
     "text": [
      "Last run:  2022-01-03 18:15:30.907929\n"
     ]
    }
   ],
   "source": [
    "from datetime import datetime\n",
    "start_time  = datetime.now()\n",
    "print(\"Last run: \", start_time)"
   ]
  },
  {
   "cell_type": "code",
   "execution_count": 2,
   "id": "383d4f4d",
   "metadata": {},
   "outputs": [],
   "source": [
    "import urllib3, json\n",
    "import pandas as pd \n",
    "http = urllib3.PoolManager() \n",
    "\n",
    "url= \"https://portrattarkiv.se/endpoints/search.php\"  \n",
    "urlbasePic = \"https://portrattarkiv.se/endpoints/file.php?id=\""
   ]
  },
  {
   "cell_type": "code",
   "execution_count": 3,
   "id": "2d6619ec",
   "metadata": {},
   "outputs": [],
   "source": [
    "PortraitCatalogSPA = \"Tvåkammar-riksdagen 1867-\"\n",
    "encoded_body = json.dumps({\n",
    "        \"limit\": \"10000\",\n",
    "        \"from\": \"0\",\n",
    "        \"facts\":{},\n",
    "        \"factsExact\":{\"PortraitCatalog\":PortraitCatalogSPA}\n",
    "    })"
   ]
  },
  {
   "cell_type": "code",
   "execution_count": 4,
   "id": "90449e3a",
   "metadata": {},
   "outputs": [
    {
     "name": "stdout",
     "output_type": "stream",
     "text": [
      "Number hits \t 4351\n"
     ]
    }
   ],
   "source": [
    "r = http.request('POST', url,\n",
    "             headers={'Content-Type': 'application/json'},\n",
    "             body=encoded_body)\n",
    "\n",
    "if r.status != 200:\n",
    "    print(r.status)\n",
    "    \n",
    "\n",
    "data = json.loads(r.data.decode('utf-8'),) \n",
    "urls = []\n",
    "\n",
    "print(\"Number hits \\t\",len(data[\"hits\"][\"hits\"]))\n"
   ]
  },
  {
   "cell_type": "code",
   "execution_count": 5,
   "id": "316faf0e",
   "metadata": {},
   "outputs": [],
   "source": [
    "header = ['id', 'urlPicture', 'FirstName','LastName','BirthYear','PortraitCatalog']\n",
    "list_pm = []\n",
    "\n",
    "for h in data[\"hits\"][\"hits\"]:\n",
    "    id = h[\"_id\"]\n",
    "    source = h[\"_source\"]\n",
    "    #print(id)\n",
    "    try:\n",
    "        urlPicture = urlbasePic + id\n",
    "        #print(\"\\t\",urlPicture)\n",
    "        urls.append(urlPicture)\n",
    "        score = h[\"_score\"]\n",
    "        FirstName = source[\"FirstName\"]\n",
    "        LastName = source[\"LastName\"]\n",
    "        BirthYear = source[\"BirthYear\"]\n",
    "        BirthDate = source[\"BirthDate\"]\n",
    "        #print(id, FirstName, \" \", LastName, \" - \", BirthYear )\n",
    "        list_pm.append([id,urlPicture,FirstName,LastName,BirthDate,PortraitCatalogSPA])       \n",
    "    except:\n",
    "        print(\"Error hdata\")\n",
    "        pass"
   ]
  },
  {
   "cell_type": "code",
   "execution_count": 6,
   "id": "c3f9bd8b",
   "metadata": {},
   "outputs": [],
   "source": [
    "#list_pm \n",
    "list_pm_df = pd.DataFrame(list_pm)\n",
    "list_pm_df.columns = header"
   ]
  },
  {
   "cell_type": "code",
   "execution_count": 7,
   "id": "1c64e266",
   "metadata": {},
   "outputs": [
    {
     "data": {
      "text/plain": [
       "(4351, 6)"
      ]
     },
     "execution_count": 7,
     "metadata": {},
     "output_type": "execute_result"
    }
   ],
   "source": [
    "list_pm_df.shape"
   ]
  },
  {
   "cell_type": "code",
   "execution_count": 8,
   "id": "4904ba10",
   "metadata": {},
   "outputs": [],
   "source": [
    "from IPython.display import HTML, Image\n",
    "\n",
    "def _src_from_data(data):\n",
    "    \"\"\"Base64 encodes image bytes for inclusion in an HTML img element\"\"\"\n",
    "    img_obj = Image(data=data)\n",
    "    for bundle in img_obj._repr_mimebundle_():\n",
    "        for mimetype, b64value in bundle.items():\n",
    "            if mimetype.startswith('image/'):\n",
    "                return f'data:{mimetype};base64,{b64value}'\n",
    "\n",
    "def gallery(images, row_height='auto'):\n",
    "    \"\"\"Shows a set of images in a gallery that flexes with the width of the notebook.\n",
    "    \n",
    "    Parameters\n",
    "    ----------\n",
    "    images: list of str or bytes\n",
    "        URLs or bytes of images to display\n",
    "\n",
    "    row_height: str\n",
    "        CSS height value to assign to all images. Set to 'auto' by default to show images\n",
    "        with their native dimensions. Set to a value like '250px' to make all rows\n",
    "        in the gallery equal height.\n",
    "    \"\"\"\n",
    "    figures = []\n",
    "    for image in images:\n",
    "        if isinstance(image, bytes):\n",
    "            src = _src_from_data(image)\n",
    "            caption = ''\n",
    "        else:\n",
    "            src = image\n",
    "            caption = f'<figcaption style=\"font-size: 0.6em\">{image}</figcaption>'\n",
    "        figures.append(f'''\n",
    "            <figure style=\"margin: 5px !important;\">\n",
    "              <img src=\"{src}\" style=\"height: {row_height}\">\n",
    "              {caption}\n",
    "            </figure>\n",
    "        ''')\n",
    "    return HTML(data=f'''\n",
    "        <div style=\"display: flex; flex-flow: row wrap; text-align: center;\">\n",
    "        {''.join(figures)}\n",
    "        </div>\n",
    "    ''')"
   ]
  },
  {
   "cell_type": "code",
   "execution_count": 9,
   "id": "0f9d2326",
   "metadata": {},
   "outputs": [
    {
     "data": {
      "text/html": [
       "\n",
       "        <div style=\"display: flex; flex-flow: row wrap; text-align: center;\">\n",
       "        \n",
       "            <figure style=\"margin: 5px !important;\">\n",
       "              <img src=\"https://portrattarkiv.se/endpoints/file.php?id=sj9PGLAlnmUAAAAAABlcRQ\" style=\"height: 100px\">\n",
       "              <figcaption style=\"font-size: 0.6em\">https://portrattarkiv.se/endpoints/file.php?id=sj9PGLAlnmUAAAAAABlcRQ</figcaption>\n",
       "            </figure>\n",
       "        \n",
       "            <figure style=\"margin: 5px !important;\">\n",
       "              <img src=\"https://portrattarkiv.se/endpoints/file.php?id=sj9PGLAlnmUAAAAAABlcUg\" style=\"height: 100px\">\n",
       "              <figcaption style=\"font-size: 0.6em\">https://portrattarkiv.se/endpoints/file.php?id=sj9PGLAlnmUAAAAAABlcUg</figcaption>\n",
       "            </figure>\n",
       "        \n",
       "            <figure style=\"margin: 5px !important;\">\n",
       "              <img src=\"https://portrattarkiv.se/endpoints/file.php?id=sj9PGLAlnmUAAAAAABlcow\" style=\"height: 100px\">\n",
       "              <figcaption style=\"font-size: 0.6em\">https://portrattarkiv.se/endpoints/file.php?id=sj9PGLAlnmUAAAAAABlcow</figcaption>\n",
       "            </figure>\n",
       "        \n",
       "            <figure style=\"margin: 5px !important;\">\n",
       "              <img src=\"https://portrattarkiv.se/endpoints/file.php?id=sj9PGLAlnmUAAAAAABlcag\" style=\"height: 100px\">\n",
       "              <figcaption style=\"font-size: 0.6em\">https://portrattarkiv.se/endpoints/file.php?id=sj9PGLAlnmUAAAAAABlcag</figcaption>\n",
       "            </figure>\n",
       "        \n",
       "            <figure style=\"margin: 5px !important;\">\n",
       "              <img src=\"https://portrattarkiv.se/endpoints/file.php?id=sj9PGLAlnmUAAAAAABlcgw\" style=\"height: 100px\">\n",
       "              <figcaption style=\"font-size: 0.6em\">https://portrattarkiv.se/endpoints/file.php?id=sj9PGLAlnmUAAAAAABlcgw</figcaption>\n",
       "            </figure>\n",
       "        \n",
       "            <figure style=\"margin: 5px !important;\">\n",
       "              <img src=\"https://portrattarkiv.se/endpoints/file.php?id=sj9PGLAlnmUAAAAAABlcfA\" style=\"height: 100px\">\n",
       "              <figcaption style=\"font-size: 0.6em\">https://portrattarkiv.se/endpoints/file.php?id=sj9PGLAlnmUAAAAAABlcfA</figcaption>\n",
       "            </figure>\n",
       "        \n",
       "            <figure style=\"margin: 5px !important;\">\n",
       "              <img src=\"https://portrattarkiv.se/endpoints/file.php?id=sj9PGLAlnmUAAAAAABlc-Q\" style=\"height: 100px\">\n",
       "              <figcaption style=\"font-size: 0.6em\">https://portrattarkiv.se/endpoints/file.php?id=sj9PGLAlnmUAAAAAABlc-Q</figcaption>\n",
       "            </figure>\n",
       "        \n",
       "            <figure style=\"margin: 5px !important;\">\n",
       "              <img src=\"https://portrattarkiv.se/endpoints/file.php?id=sj9PGLAlnmUAAAAAABlcxw\" style=\"height: 100px\">\n",
       "              <figcaption style=\"font-size: 0.6em\">https://portrattarkiv.se/endpoints/file.php?id=sj9PGLAlnmUAAAAAABlcxw</figcaption>\n",
       "            </figure>\n",
       "        \n",
       "            <figure style=\"margin: 5px !important;\">\n",
       "              <img src=\"https://portrattarkiv.se/endpoints/file.php?id=sj9PGLAlnmUAAAAAABlc5Q\" style=\"height: 100px\">\n",
       "              <figcaption style=\"font-size: 0.6em\">https://portrattarkiv.se/endpoints/file.php?id=sj9PGLAlnmUAAAAAABlc5Q</figcaption>\n",
       "            </figure>\n",
       "        \n",
       "        </div>\n",
       "    "
      ],
      "text/plain": [
       "<IPython.core.display.HTML object>"
      ]
     },
     "execution_count": 9,
     "metadata": {},
     "output_type": "execute_result"
    }
   ],
   "source": [
    "urls = []\n",
    "for h in data[\"hits\"][\"hits\"][1:10]:\n",
    "    id = h[\"_id\"]\n",
    "    source = h[\"_source\"]\n",
    "    urlPicture = urlbasePic + id\n",
    "    urls.append(urlPicture)\n",
    "gallery(urls, row_height='100px')"
   ]
  },
  {
   "cell_type": "code",
   "execution_count": 10,
   "id": "57a12d08",
   "metadata": {},
   "outputs": [
    {
     "name": "stdout",
     "output_type": "stream",
     "text": [
      "OpenRefine_Tvåkammar-riksdagen 1867-.csv\n"
     ]
    }
   ],
   "source": [
    "csvFile = \"OpenRefine_\" + PortraitCatalogSPA + \".csv\"\n",
    "print(csvFile)\n",
    "list_pm_df.to_csv(csvFile)"
   ]
  },
  {
   "cell_type": "code",
   "execution_count": 11,
   "id": "b59d6ea2",
   "metadata": {},
   "outputs": [
    {
     "name": "stdout",
     "output_type": "stream",
     "text": [
      "Ended:  2022-01-03 18:15:44.701850\n",
      "Time elapsed (hh:mm:ss.ms) 0:00:13.794501\n"
     ]
    }
   ],
   "source": [
    "end = datetime.now()\n",
    "print(\"Ended: \", end) \n",
    "print('Time elapsed (hh:mm:ss.ms) {}'.format(datetime.now() - start_time))"
   ]
  },
  {
   "cell_type": "code",
   "execution_count": null,
   "id": "1b8eb823",
   "metadata": {},
   "outputs": [],
   "source": []
  }
 ],
 "metadata": {
  "kernelspec": {
   "display_name": "Python 3 (ipykernel)",
   "language": "python",
   "name": "python3"
  },
  "language_info": {
   "codemirror_mode": {
    "name": "ipython",
    "version": 3
   },
   "file_extension": ".py",
   "mimetype": "text/x-python",
   "name": "python",
   "nbconvert_exporter": "python",
   "pygments_lexer": "ipython3",
   "version": "3.9.7"
  }
 },
 "nbformat": 4,
 "nbformat_minor": 5
}
