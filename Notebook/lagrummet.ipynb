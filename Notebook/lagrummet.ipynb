{
 "cells": [
  {
   "cell_type": "markdown",
   "id": "b1d8a68e",
   "metadata": {},
   "source": [
    "## Hämta Lagrummet URL\n",
    "\n",
    "\n",
    "https://lagrummet.se/lagrummet/rattsinformation/myndigheters-foreskrifter"
   ]
  },
  {
   "cell_type": "code",
   "execution_count": 1,
   "id": "7e826577",
   "metadata": {},
   "outputs": [
    {
     "name": "stdout",
     "output_type": "stream",
     "text": [
      "Last run:  2022-11-13 13:42:05.096564\n"
     ]
    }
   ],
   "source": [
    "from datetime import datetime\n",
    "start_time  = datetime.now()\n",
    "print(\"Last run: \", start_time)"
   ]
  },
  {
   "cell_type": "code",
   "execution_count": 23,
   "id": "94cc7861",
   "metadata": {},
   "outputs": [
    {
     "name": "stdout",
     "output_type": "stream",
     "text": [
      "https://lagrummet.se/lagrummet/rattsinformation/myndigheters-foreskrifter\n",
      "/om-webbplatsen/kakor Om kakor och hur vi använder dem\n",
      "https://publikationer.konsumentverket.se/sv/sok/kovfs Allmänna reklamationsnämnden (publiceras i Konsumentverkets serie)\n",
      "https://arbetsformedlingen.se/om-oss/var-verksamhet/styrning-och-resultat/forfattningssamling-AFFS Arbetsförmedlingens författningssamling (AFFS)\n",
      "https://www.arbetsgivarverket.se/avtal--skrifter/?isNewSearch=1&PublicationSearch.Text=*&PublicationSearch.&PublicationSearch.&PublicationSearch.&PublicationSearch.Type=F%C3%B6rfattningssamling+AGVFS Arbetsgivarverkets författningssamling (AGVFS)\n",
      "https://www.av.se/arbetsmiljoarbete-och-inspektioner/publikationer/foreskrifter/ Arbetsmiljöverkets författningssamling (AFS)\n",
      "https://www.lansstyrelsen.se/blekinge/om-oss/om-lansstyrelsen-blekinge/forfattningar.html Blekinge läns författningssamling (10FS)\n",
      "https://www.bfn.se/redovisningsregler/allmanna-rad/ Bokföringsnämndens allmänna råd (BFNAR)\n",
      "https://www.bolagsverket.se/om/oss/verksamhet/styr/forfattningssamling Bolagsverkets författningssamling (BOLFS)\n",
      "https://www.boverket.se/sv/lag--ratt/forfattningssamling/ Boverkets författningssamling (BFS)\n",
      "https://www.csn.se/om-csn/lag-och-ratt/forfattningssamling Centrala studiestödsnämndens författningssamling (CSNFS)\n",
      "https://www.lansstyrelsen.se/dalarna/om-oss/om-lansstyrelsen-i-dalarnas-lan/forfattningar.html Dalarnas läns författningssamling (20FS)\n",
      "https://www.domstol.se/om-sveriges-domstolar/for-professionella-aktorer/dvfs/ Domstolsverkets författningssamling (DVFS)\n",
      "https://www.kunskapsguiden.se/foreskrifter/Sidor/default.aspx E-hälsomyndighetens föreskrifter (i Gemensamma författningssamlingen HSLF-FS)\n",
      "https://www.elsakerhetsverket.se/om-oss/lag-och-ratt/ Elsäkerhetsverkets författningssamling (ELSÄK-FS)\n",
      "https://www.ei.se/sv/Publikationer/Foreskrifter/ Energimarknadsinspektionens författningssamling (EIFS)\n",
      "https://www.vr.se/om-vetenskapsradet/organisation/styrande-dokument/vetenskapsradets-forfattningssamling.html Etikprövningsmyndighetens föreskrifter (publiceras i Vetenskapsrådets serie)\n",
      "https://fmi.se/det-har-ar-fmi/lag-och-ratt/ Fastighetsmäklarinspektionens föreskrifter (publiceras i Kammarkollegiets serie)\n",
      "https://www.fi.se/sv/vara-register/forteckning-fffs/ Finansinspektionens författningssamling (FFFS)\n",
      "https://www.folkhalsomyndigheten.se/publikationer-och-material/foreskrifter-och-allmanna-rad/ Folkhälsomyndighetens föreskrifter (se också Gemensamma författningssamlingen HSLF-FS)\n",
      "https://kunskapsguiden.se/gemensam-forfattningssamling/ Gemensamma författningssamlingen avseende hälso- och sjukvård, socialtjänst, läkemedel, folkhälsa m.m. (HSLF-FS)\n",
      "https://www.lansstyrelsen.se/gotland/om-oss/om-lansstyrelsen-i-gotlands-lan/forfattningar.html Gotlands läns författningssamling (09FS)\n",
      "https://www.lansstyrelsen.se/gavleborg/om-oss/om-lansstyrelsen-i-gavleborgs-lan/forfattningar.html Gävleborgs läns författningssamling (21FS)\n",
      "https://www.lansstyrelsen.se/halland/om-oss/om-lansstyrelsen-i-hallands-lan/forfattningar.html Hallands läns författningssamling (13FS)\n",
      "https://www.havochvatten.se/vagledning-foreskrifter-och-lagar/foreskrifter.html Havs- och vattenmyndighetens författningssamling (HVMFS)\n",
      "https://www.iaf.se/Lag-ratt/Foreskrifter/ Inspektionen för arbetslöshetsförsäkringens författningssamling (IAFFS)\n",
      "https://www.tullverket.se/sv/omoss/lagarochforeskrifter/tullverketsforfattningssamlingtfs.4.7df61c5915510cfe9e7f3e3.html Inspektionen för strategiska produkters föreskrifter (publiceras i Tullverkets serie)\n",
      "https://www.ivo.se/publicerat-material/foreskrifter/ Inspektionen för vård och omsorgs föreskrifter (se också Gemensamma författningssamlingen HSLF-FS)\n",
      "https://www.imy.se/om-oss/aktuellt-fran-oss/foreskrifter-och-allmanna-rad/ Integritetsskyddsmyndighetens författningssamling (IMYFS)\n",
      "https://www.lansstyrelsen.se/jamtland/om-oss/om-lansstyrelsen-i-jamtlands-lan/forfattningar.html Jämtlands läns författningssamling (23FS)\n",
      "https://www.lansstyrelsen.se/jonkoping/om-oss/om-lansstyrelsen-i-jonkopings-lan/forfattningar.html Jönköpings läns författningssamling (06FS)\n",
      "https://www.lansstyrelsen.se/kalmar/om-oss/om-lansstyrelsen-i-kalmar-lan/forfattningar.html Kalmars läns författningssamling (08FS)\n",
      "https://www.kammarkollegiet.se/om-oss/kammarkollegiets-forfattningssamling-kamfs Kammarkollegiets författningssamling (KAMFS)\n",
      "https://www.kemi.se/lagar-och-regler/kemikalieinspektionens-foreskrifter-kifs Kemikalieinspektionens författningssamling (KIFS)\n",
      "https://www.kommerskollegium.se/om-oss/uppdrag/forfattningssamling/ Kommerskollegiums författningssamling (KFS)\n",
      "https://www.konkurrensverket.se/Konkurrensverkets-forfattningssamling-KKVFS/ Konkurrensverkets författningssamling (KKVFS)\n",
      "https://publikationer.konsumentverket.se/sv/sok/kovfs Konsumentverkets författningssamling (KOVFS)\n",
      "https://www.kriminalvarden.se/om-kriminalvarden/styrning-och-regelverk/lagar-forordningar-och-foreskrifter Kriminalvårdens författningssamling (KVFS)\n",
      "https://www.lansstyrelsen.se/kronoberg/om-oss/om-lansstyrelsen-i-kronobergs-lan/forfattningar.html Kronobergs läns författningssamling (07FS)\n",
      "https://www.kronofogden.se/Foreskrifter.html Kronofogdemyndighetens författningssamling (KFMFS)\n",
      "https://www.kustbevakningen.se/om-oss/kustbevakningens-forfattningssamling/ Kustbevakningens författningssamling (KBVFS)\n",
      "https://www.lantmateriet.se/sv/Om-Lantmateriet/Rattsinformation/Foreskrifter/ Lantmäteriets författningssamling (LMFS)\n",
      "https://www.livsmedelsverket.se/om-oss/lagstiftning1/foreskrifter-i-nummerordning Livsmedelsverkets författningssamling (LIVSFS)\n",
      "https://www.transportstyrelsen.se/sv/Regler/ Luftfartsverkets föreskrifter (publiceras i Transportstyrelsens serie)\n",
      "https://www.lakemedelsverket.se/sv/lagar-och-regler/foreskrifter Läkemedelsverkets föreskrifter (se också Gemensamma författningssamlingen HSLF-FS)\n",
      "https://www.scb.se/om-scb/scbs-verksamhet/regelverk-och-policyer/foreskrifter/ Medlingsinstitutets föreskrifter (publiceras i Statistiska centralbyråns serie)\n",
      "https://www.migrationsverket.se/Om-Migrationsverket/Vart-uppdrag/Styrning-och-uppfoljning/Foreskrifter.html Migrationsverkets författningssamling (MIGRFS)\n",
      "https://www.digg.se/om-oss/forfattningssamling Myndigheten för digital förvaltnings författningssamling (MDFFS)\n",
      "https://www.mfof.se/sarskilda-innehallssidor/foreskrifter-och-allmanna-rad.html Myndigheten för familjerätt och föräldraskapsstöds föreskrifter (se också Gemensamma författningssamlingen HSLF-FS)\n",
      "https://www.mprt.se/regelverk/foreskrifter-och-forordningar/ Myndigheten för press, radio och tv:s författningssamling (MPRTFS)\n",
      "https://www.msb.se/sv/regler/ Myndigheten för samhällsskydd och beredskaps författningssamling (MSBFS)\n",
      "https://www.tillvaxtanalys.se/publikationer--seminarier/naringslivsstatistik/officiell-statistik.html Myndigheten för tillväxtpolitiska utvärderingar och analysers författningssamling (MTFS)\n",
      "https://www.skolverket.se/regler-och-ansvar/sok-forordningar-och-foreskrifter-skolfs Myndigheten för ungdoms- och civilsamhällesfrågors föreskrifter (publiceras i Statens skolverks serie)\n",
      "https://www.myh.se/lag-och-ratt/foreskrifter-och-allmanna-rad Myndigheten för yrkeshögskolans författningssamling (MYHFS)\n",
      "https://www.naturvardsverket.se/nfs Naturvårdsverkets författningssamling (NFS)\n",
      "https://www.lansstyrelsen.se/norrbotten/om-oss/om-lansstyrelsen-i-norrbottens-lan/forfattningar.html Norrbottens läns författningssamling (25FS)\n",
      "https://www.domstol.se/om-sveriges-domstolar/for-professionella-aktorer/dvfs/?f=OrdinanceAuthority_list:notarienamnden Notarienämndens föreskrifter (publiceras i Domstolsverkets serie)\n",
      "https://www.prv.se/sv/om-oss/var-verksamhet/styrdokument/prvs-forfattningssamling/ Patent- och registreringsverkets författningssamling (PRVFS)\n",
      "https://www.bolagsverket.se/om/oss/fler/patentombud/om/samling Patentombudsnämndens föreskrifter (publiceras i Bolagsverkets serie)\n",
      "https://www.pensionsmyndigheten.se/om-pensionsmyndigheten/allmanna-handlingar/lagar-och-regler Pensionsmyndighetens författningssamling (PFS)\n",
      "https://polisen.se/Lagar-och-regler/Polismyndighetens-forfattningssamling/ Polismyndighetens författningssamling (PMFS)\n",
      "https://www.pts.se/sv/Dokument/Foreskrifter/ Post- och telestyrelsens författningssamling (PTSFS)\n",
      "https://www.revisorsinspektionen.se/regelverk/samtliga-foreskrifter/ Revisorsinspektionens författningssamling (RIFS)\n",
      "https://www.kulturradet.se/om-oss/forfattningssamling/ Riksantikvarieämbetets föreskrifter (publiceras i Statens kulturråds serie)\n",
      "https://riksarkivet.se/foreskrifter-och-regler Riksarkivets författningssamling (RA-FS)\n",
      "https://www.riksdagen.se/sv/dokument-lagar/?doktyp=rfs&sort=bet&sortorder=desc Riksdagsförvaltningens författningssamling (RFS)\n",
      "https://www.riksgalden.se/sv/press-och-publicerat/foreskrifter/ Riksgäldskontorets författningssamling (RGKFS)\n",
      "https://www.esf.se/att-driva-projekt/styrande-dokument/ Rådet för Europeiska socialfonden i Sveriges föreskrifter (publiceras i Tillväxtverkets serie)\n",
      "https://www.kunskapsguiden.se/foreskrifter/Sidor/default.aspx Rättsmedicinalverkets föreskrifter (i Gemensamma författningssamlingen HSLF-FS)\n",
      "https://www.sametinget.se/1014?cat_id=52 Sametingets författningssamling (STFS)\n",
      "https://www4.skatteverket.se/rattsligvagledning/115.html Skatteverkets författningssamling (SKVFS)\n",
      "https://www.skogsstyrelsen.se/lag-och-tillsyn/forfattningar/ Skogsstyrelsens författningssamling (SKSFS)\n",
      "https://www.lansstyrelsen.se/skane/om-oss/om-lansstyrelsen-skane/forfattningar Skåne läns författningssamling (12FS)\n",
      "https://www.socialstyrelsen.se/sosfs Socialstyrelsens föreskrifter (se också Gemensamma författningssamlingen HSLF-FS)\n",
      "https://www.skolverket.se/regler-och-ansvar/sok-forordningar-och-foreskrifter-skolfs Specialpedagogiska skolmyndighetens föreskrifter (publiceras i Statens skolverks serie)\n",
      "https://www.spelinspektionen.se/lagar--forordningar/nya-foreskrifter/ Spelinspektionens författningssamling (SIFS)\n",
      "https://www.energimyndigheten.se/om-oss/foreskrifter/ Statens energimyndighets författningssamling (STEMFS)\n",
      "https://www.stat-inst.se/om-sis/lagar-forordningar-forfattningar/sis-forfattningssamling/ Statens institutionsstyrelses författningssamling (SiSFS)\n",
      "https://jordbruksverket.se/om-jordbruksverket/forfattningar/om-forfattningssamlingen Statens jordbruksverks författningssamling (SJVFS)\n",
      "https://www.kulturradet.se/om-oss/forfattningssamling/ Statens kulturråds författningssamling (KRFS)\n",
      "https://www.skolinspektionen.se/rad-och-vagledning/lagar-och-regler/ Statens skolinspektions föreskrifter (publiceras i Statens skolverks serie)\n",
      "https://www.skolverket.se/regler-och-ansvar/sok-forordningar-och-foreskrifter-skolfs Statens skolverks författningssamling (SKOLFS)\n",
      "https://www.arbetsgivarverket.se/avtal--skrifter/?isNewSearch=1&PublicationSearch.Text=*&PublicationSearch.&PublicationSearch.&PublicationSearch.&PublicationSearch.Type=F%C3%B6rfattningssamling+AGVFS Statens tjänstepensionsverks föreskrifter (publiceras i Arbetsgivarverkets serie)\n",
      "https://www.scb.se/om-scb/scbs-verksamhet/regelverk-och-policyer/foreskrifter/ Statistiska centralbyråns författningssamling (SCB-FS)\n",
      "https://www.lansstyrelsen.se/stockholm/om-oss/om-lansstyrelsen-stockholm/forfattningar.html Stockholms läns författningssamling (01FS)\n",
      "https://www.stralsakerhetsmyndigheten.se/regler/foreskrifter/ Strålsäkerhetsmyndighetens författningssamling (SSMFS)\n",
      "https://www.swedac.se/lag-ratt/swedacs-foreskrifter/ Styrelsens för ackreditering och teknisk kontroll (SWEDAC) författningssamling (STAFS)\n",
      "https://rdt.transportstyrelsen.se/rdt/defaultstfs.aspx Svensk trafikföreskriftssamling (STFS)\n",
      "https://www.svk.se/om-kraftsystemet/legalt-ramverk/svenska-kraftnats-foreskrifter/ Svenska kraftnäts författningssamling (SvKFS)\n",
      "https://www.sgu.se/om-sgu/verksamhet/foreskrifter/ Sveriges geologiska undersöknings författningssamling (SGU-FS)\n",
      "https://polisen.se/Lagar-och-regler/Polismyndighetens-forfattningssamling/ Säkerhetspolisens föreskrifter (publiceras i Polismyndighetens serie)\n",
      "https://www.lansstyrelsen.se/sodermanland/om-oss/om-lansstyrelsen-i-sodermanlands-lan/forfattningar.html Södermanlands läns författningssamling (04FS)\n",
      "https://www.tlv.se/om-oss/om-tlv/regelverk/foreskrifter.html Tandvårds- och läkemedelsförmånsverkets föreskrifter (se också Gemensamma författningssamlingen HSLF-FS)\n",
      "https://tillvaxtverket.se/om-tillvaxtverket/uppdrag/foreskrifter.html Tillväxtverkets författningssamling (TVFS)\n",
      "https://www.pliktverket.se/om-myndigheten/lag-och-ratt/foreskrifter Totalförsvarets plikt- och prövningsverks författningssamling (TPPVFS)\n",
      "https://www.trafa.se/sidor/foreskrifter/ Trafikanalys föreskrifter (publiceras i Kammarkollegiets serie)\n",
      "https://www.trafikverket.se/om-oss/var-verksamhet-vision-och-uppdrag/trafikverkets-forfattningssamling/ Trafikverkets författningssamling (TRVFS)\n",
      "https://www.transportstyrelsen.se/sv/Regler/sok-ts-foreskrifter/ Transportstyrelsens författningssamling (TSFS)\n",
      "https://www.tullverket.se/sv/omoss/lagarochforeskrifter/tullverketsforfattningssamlingtfs.4.7df61c5915510cfe9e7f3e3.html Tullverkets författningssamling (TFS)\n",
      "https://www.uhr.se/publikationer/lagar-och-regler-for-hogre-utbildning/Universitets--och-hogskoleradets-forfattningssamling/ Universitets- och högskolerådets författningssamling (UHRFS)\n",
      "https://www.upphandlingsmyndigheten.se/om-oss/upphandlingsmyndighetens-forfattningssamling/ Upphandlingmyndighetens författningssamling (UFS)\n",
      "https://www.lansstyrelsen.se/uppsala/om-oss/om-lansstyrelsen-i-uppsala-lan/forfattningar.html Uppsala läns författningssamling (03FS)\n",
      "https://www.val.se/om-oss/lagar-och-regler/lagar-och-forordningar.html Valmyndighetens författningssamling (VALFS)\n",
      "https://www.vr.se/om-vetenskapsradet/organisation/styrande-dokument/vetenskapsradets-forfattningssamling.html Vetenskapsrådets författningssamling (VRFS)\n",
      "https://www.lansstyrelsen.se/varmland/om-oss/om-lansstyrelsen-varmland/forfattningar.html Värmlands läns författningssamling (17FS)\n",
      "https://www.lansstyrelsen.se/vasterbotten/om-oss/om-lansstyrelsen-i-vasterbottens-lan/forfattningar.html Västerbottens läns författningssamling (24FS)\n",
      "https://www.lansstyrelsen.se/vasternorrland/om-oss/om-lansstyrelsen-i-vasternorrlands-lan/forfattningar.html Västernorrlands läns författningssamling (22FS)\n",
      "https://www.lansstyrelsen.se/vastmanland/om-oss/om-lansstyrelsen-i-vastmanlands-lan/forfattningar.html Västmanlands läns författningssamling (19FS)\n",
      "https://www.lansstyrelsen.se/vastra-gotaland/om-oss/om-lansstyrelsen-i-vastra-gotaland/forfattningar.html Västra Götalands läns författningssamling (14FS)\n",
      "https://www.aklagare.se/om-oss/dokument/forfattningssamlingar/ Åklagarmyndighetens författningssamling (ÅFS)\n",
      "https://www.lansstyrelsen.se/orebro/om-oss/forfattningar.html Örebro läns författningssamling (18FS)\n",
      "https://www.lansstyrelsen.se/ostergotland/om-oss/om-lansstyrelsen-i-ostergotlands-lan/forfattningar.html Östergötlands läns författningssamling (05FS)\n",
      "/lar-dig-mer/vanliga-fragor Vanliga frågor\n",
      "112  antal poster\n"
     ]
    }
   ],
   "source": [
    "\n",
    "import requests\n",
    "import urllib.request\n",
    "import time\n",
    "from tqdm import tqdm\n",
    "from bs4 import BeautifulSoup\n",
    "def cleanupstring(s):\n",
    "    out_s = s\n",
    "    while '  ' in out_s:\n",
    "        out_s = out_s.strip().replace('  ', ' ')\n",
    "    return out_s, len(s)-len(out_s)\n",
    "\n",
    "urlbase = \"https://lagrummet.se/lagrummet/rattsinformation/myndigheters-foreskrifter\"\n",
    "\n",
    "newList = []\n",
    "\n",
    "url = urlbase\n",
    "print(url)\n",
    "response = requests.get(url)\n",
    "soup = BeautifulSoup(response.text, \"html.parser\")\n",
    "urls = soup.findAll('a')\n",
    "for u in urls:\n",
    "    if (\"lagrum\" or \"om-webbplatsen\") not in u['href']:\n",
    "        print (u['href'],u.text)\n",
    "        newList.append([u.text,u['href']])\n",
    "\n",
    "    \n",
    "#print (len(newList) ,\" antal poster\")"
   ]
  },
  {
   "cell_type": "code",
   "execution_count": 29,
   "id": "743cca98",
   "metadata": {},
   "outputs": [],
   "source": [
    "#newList"
   ]
  },
  {
   "cell_type": "code",
   "execution_count": 24,
   "id": "75b56a9d",
   "metadata": {},
   "outputs": [],
   "source": [
    "import pandas as pd\n",
    "df = pd.DataFrame(newList)\n",
    "df.to_csv(\"Lagrummet.csv\")"
   ]
  },
  {
   "cell_type": "code",
   "execution_count": null,
   "id": "d179dbb6",
   "metadata": {},
   "outputs": [],
   "source": []
  },
  {
   "cell_type": "code",
   "execution_count": 25,
   "id": "16b327d2",
   "metadata": {},
   "outputs": [],
   "source": [
    "#newList"
   ]
  },
  {
   "cell_type": "code",
   "execution_count": 23,
   "id": "17077a10",
   "metadata": {},
   "outputs": [
    {
     "name": "stdout",
     "output_type": "stream",
     "text": [
      "Ended:  2022-11-13 14:47:29.335502\n",
      "Time elapsed (hh:mm:ss.ms) 1:05:24.239783\n"
     ]
    }
   ],
   "source": [
    "end = datetime.now()\n",
    "print(\"Ended: \", end)\n",
    "print('Time elapsed (hh:mm:ss.ms) {}'.format(datetime.now() - start_time))\n"
   ]
  },
  {
   "cell_type": "code",
   "execution_count": null,
   "id": "a523fe6d",
   "metadata": {},
   "outputs": [],
   "source": []
  }
 ],
 "metadata": {
  "kernelspec": {
   "display_name": "Python 3",
   "language": "python",
   "name": "python3"
  },
  "language_info": {
   "codemirror_mode": {
    "name": "ipython",
    "version": 3
   },
   "file_extension": ".py",
   "mimetype": "text/x-python",
   "name": "python",
   "nbconvert_exporter": "python",
   "pygments_lexer": "ipython3",
   "version": "3.9.13"
  }
 },
 "nbformat": 4,
 "nbformat_minor": 5
}
